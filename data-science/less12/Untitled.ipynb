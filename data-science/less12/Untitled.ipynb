{
 "cells": [
  {
   "cell_type": "code",
   "execution_count": 7,
   "metadata": {},
   "outputs": [
    {
     "data": {
      "text/plain": [
       "0              Novel Machine Learning Algorithms (NMLA)\n",
       "1     AI and the Web (AIW)\\nNovel Machine Learning A...\n",
       "2             Game Theory and Economic Paradigms (GTEP)\n",
       "3                           NLP and Text Mining (NLPTM)\n",
       "4     Knowledge Representation and Reasoning (KRR)\\n...\n",
       "5                                          Vision (VIS)\n",
       "6                   Machine Learning Applications (MLA)\n",
       "7     Machine Learning Applications (MLA)\\nNLP and M...\n",
       "8                                  AI and the Web (AIW)\n",
       "9     Novel Machine Learning Algorithms (NMLA)\\nVisi...\n",
       "10    Heuristic Search and Optimization (HSO)\\nSearc...\n",
       "11    Novel Machine Learning Algorithms (NMLA)\\nReas...\n",
       "12             Novel Machine Learning Algorithms (NMLA)\n",
       "13                                 AI and the Web (AIW)\n",
       "14                         Planning and Scheduling (PS)\n",
       "15    Applications (APP)\\nMachine Learning Applicati...\n",
       "16    Applications (APP)\\nGame Theory and Economic P...\n",
       "17           Computational Sustainability and AI (CSAI)\n",
       "18                                 AI and the Web (AIW)\n",
       "19                                         Vision (VIS)\n",
       "Name: groups, dtype: object"
      ]
     },
     "execution_count": 7,
     "metadata": {},
     "output_type": "execute_result"
    }
   ],
   "source": [
    "import pandas as pd\n",
    "import numpy as np\n",
    "import matplotlib.pyplot as plt\n",
    "from sklearn.cluster import KMeans\n",
    "\n",
    "\n",
    "df = pd.read_csv(\"text.csv\")\n",
    "df = df.dropna()\n",
    "# df.info()\n",
    "# df.head()\n",
    "df.groups.head(20)"
   ]
  },
  {
   "cell_type": "code",
   "execution_count": 8,
   "metadata": {},
   "outputs": [
    {
     "data": {
      "text/plain": [
       "0     cross-domain learning\\ndomain adaptation\\nkern...\n",
       "1     Transfer Learning\\nAuxiliary Data Retrieval\\nT...\n",
       "2     social choice theory\\nvoting\\nfair division\\ns...\n",
       "3     Generative model\\nSocial Networks\\nAge Prediction\n",
       "4     tensor completion\\nlow-rank recovery\\nhybrid s...\n",
       "5     Similarity Search\\nApproximate Nearest Neighbo...\n",
       "6     constraint-based clustering\\nmachine learning\\...\n",
       "7     Online Classification\\nVoted Dual Averaging Me...\n",
       "8     Fraudulent Support Telephone Number\\nCo-occurr...\n",
       "9     supervised hashing\\napproximate near neighbor ...\n",
       "10             Partial MaxSAT\\nLocal Search\\nHeuristics\n",
       "11    Probabilistic programming\\nProgram analysis\\nS...\n",
       "12    feature selection\\nmutual information\\nglobal ...\n",
       "13    social networks\\ninfluence maximization\\nnovel...\n",
       "14    Markov Decision Processes (MDPs)\\nReplanning\\n...\n",
       "15    Conversation modeling\\nPatient-doctor communic...\n",
       "16    Kidney exchange\\nSparse random graphs\\nComputa...\n",
       "17    Probabilistic Graphical Model\\nCrowdsourcing\\n...\n",
       "18    Cross-View Learning\\nFeature Learning\\nRandom ...\n",
       "19    Weakly-Supervised Learning\\nImage Parsing\\nGra...\n",
       "Name: keywords, dtype: object"
      ]
     },
     "execution_count": 8,
     "metadata": {},
     "output_type": "execute_result"
    }
   ],
   "source": [
    "df.keywords.head(20)"
   ]
  },
  {
   "cell_type": "code",
   "execution_count": 12,
   "metadata": {},
   "outputs": [
    {
     "data": {
      "text/plain": [
       "0     APP: Biomedical / Bioinformatics\\nNMLA: Bayesi...\n",
       "1     AIW: Knowledge acquisition from the web\\nAIW: ...\n",
       "2       GTEP: Game Theory\\nGTEP: Social Choice / Voting\n",
       "3     AIW: Web personalization and user modeling\\nNL...\n",
       "4     KRR: Knowledge Representation (General/Other)\\...\n",
       "5                        VIS: Image and Video Retrieval\n",
       "6            MLA: Applications of Unsupervised Learning\n",
       "7     MLA: Machine Learning Applications (General/ot...\n",
       "8     AIW: Enhancing web search and information retr...\n",
       "9     NMLA: Neural Networks/Deep Learning\\nVIS: Imag...\n",
       "10    HSO: Heuristic Search\\nHSO: Optimization\\nSCS:...\n",
       "11    MLA: Machine Learning Applications (General/ot...\n",
       "12    NMLA: Data Mining and Knowledge Discovery\\nNML...\n",
       "13    AIW: Social networking and community identific...\n",
       "14    PS: Probabilistic Planning\\nPS: Replanning and...\n",
       "15    APP: Biomedical / Bioinformatics\\nMLA: Bio/Med...\n",
       "16    APP: Biomedical / Bioinformatics\\nGTEP: Auctio...\n",
       "17    CSAI: Modeling and prediction of dynamic and s...\n",
       "18    AIW: AI for multimedia and multimodal web appl...\n",
       "19         VIS: Categorization\\nVIS: Object Recognition\n",
       "Name: topics, dtype: object"
      ]
     },
     "execution_count": 12,
     "metadata": {},
     "output_type": "execute_result"
    }
   ],
   "source": [
    "df.topics.head(20)"
   ]
  },
  {
   "cell_type": "code",
   "execution_count": 17,
   "metadata": {},
   "outputs": [
    {
     "name": "stdout",
     "output_type": "stream",
     "text": [
      "topics uniques 348\n",
      "groups uniques 125\n"
     ]
    }
   ],
   "source": [
    "print('topics uniques', len(df.topics.unique()))\n",
    "print('groups uniques', len(df.groups.unique()))"
   ]
  },
  {
   "cell_type": "code",
   "execution_count": null,
   "metadata": {
    "collapsed": true
   },
   "outputs": [],
   "source": [
    "def split_groups(x):\n",
    "\n",
    "    groups = x.split('\\n')\n",
    "    for index, group in enumerate(groups):\n",
    "        df[\"group%d\"%index][rowid]= \n",
    "        "
   ]
  },
  {
   "cell_type": "code",
   "execution_count": null,
   "metadata": {
    "collapsed": true
   },
   "outputs": [],
   "source": []
  },
  {
   "cell_type": "code",
   "execution_count": null,
   "metadata": {
    "collapsed": true
   },
   "outputs": [],
   "source": []
  }
 ],
 "metadata": {
  "kernelspec": {
   "display_name": "Python 3",
   "language": "python",
   "name": "python3"
  },
  "language_info": {
   "codemirror_mode": {
    "name": "ipython",
    "version": 3
   },
   "file_extension": ".py",
   "mimetype": "text/x-python",
   "name": "python",
   "nbconvert_exporter": "python",
   "pygments_lexer": "ipython3",
   "version": "3.6.3"
  }
 },
 "nbformat": 4,
 "nbformat_minor": 2
}
