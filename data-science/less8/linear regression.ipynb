{
 "cells": [
  {
   "cell_type": "code",
   "execution_count": 26,
   "metadata": {},
   "outputs": [
    {
     "data": {
      "image/png": "[encoded data removed]",
      "text/plain": [
       "<Figure size 432x288 with 1 Axes>"
      ]
     },
     "metadata": {},
     "output_type": "display_data"
    },
    {
     "name": "stdout",
     "output_type": "stream",
     "text": [
      "0.9473684210526315\n",
      "None\n",
      "0.9736842105263158\n",
      "None\n",
      "1.0\n",
      "None\n",
      "0.9473684210526315\n",
      "None\n",
      "0.8421052631578947\n",
      "None\n",
      "0.9736842105263158\n",
      "None\n",
      "0.9736842105263158\n",
      "None\n",
      "0.9736842105263158\n",
      "None\n",
      "0.9473684210526315\n",
      "None\n",
      "0.9210526315789473\n",
      "None\n",
      "0.9210526315789473\n",
      "None\n",
      "0.868421052631579\n",
      "None\n",
      "0.9473684210526315\n",
      "None\n",
      "0.8947368421052632\n",
      "None\n",
      "0.9736842105263158\n",
      "None\n",
      "0.9736842105263158\n",
      "None\n",
      "0.9473684210526315\n",
      "None\n",
      "0.9736842105263158\n",
      "None\n",
      "0.9210526315789473\n",
      "None\n",
      "0.9473684210526315\n",
      "None\n",
      "0.9210526315789473\n",
      "None\n",
      "1.0\n",
      "None\n",
      "0.9210526315789473\n",
      "None\n",
      "0.9473684210526315\n",
      "None\n",
      "0.9210526315789473\n",
      "None\n",
      "0.9736842105263158\n",
      "None\n",
      "0.9210526315789473\n",
      "None\n",
      "0.9473684210526315\n",
      "None\n",
      "0.9736842105263158\n",
      "None\n",
      "0.9736842105263158\n",
      "None\n",
      "1.0\n",
      "None\n",
      "0.9210526315789473\n",
      "None\n",
      "0.9473684210526315\n",
      "None\n",
      "0.9210526315789473\n",
      "None\n",
      "0.9473684210526315\n",
      "None\n",
      "0.8947368421052632\n",
      "None\n",
      "0.9736842105263158\n",
      "None\n",
      "0.9210526315789473\n",
      "None\n",
      "0.8947368421052632\n",
      "None\n",
      "0.7631578947368421\n",
      "None\n",
      "1.0\n",
      "None\n",
      "0.9210526315789473\n",
      "None\n",
      "1.0\n",
      "None\n",
      "0.8947368421052632\n",
      "None\n",
      "0.9736842105263158\n",
      "None\n",
      "0.9210526315789473\n",
      "None\n",
      "0.9736842105263158\n",
      "None\n",
      "0.8947368421052632\n",
      "None\n",
      "0.9473684210526315\n",
      "None\n",
      "1.0\n",
      "None\n"
     ]
    }
   ],
   "source": [
    "from sklearn.svm import SVC, LinearSVC\n",
    "from sklearn.datasets import load_iris\n",
    "from sklearn.model_selection import train_test_split\n",
    "from sklearn.metrics import accuracy_score\n",
    "import seaborn as sns\n",
    "import pandas as pd\n",
    "from sklearn.preprocessing import MinMaxScaler\n",
    "from sklearn.preprocessing import LabelEncoder\n",
    "from sklearn.ensemble import RandomForestClassifier\n",
    "from sklearn.linear_model import LogisticRegression\n",
    "import matplotlib.pyplot as plt\n",
    "import numpy as np\n",
    "\n",
    "iris = load_iris()\n",
    "\n",
    "data = iris.data\n",
    "target = iris.target\n",
    "\n",
    "lr = LogisticRegression()\n",
    "\n",
    "def graph(data, target, kn):\n",
    "    x_min, x_max = data[:,0].min() - 0.5, data[:,0].max() + 0.5\n",
    "    y_min, y_max = data[:,1].min() - 0.5, data[:,1].max() + 0.5\n",
    "    xx, yy = np.meshgrid(np.arange(x_min, x_max, 0.02), np.arange(y_min, y_max, 0.02))\n",
    "\n",
    "    kn.fit(data, target)\n",
    "\n",
    "    z = kn.predict(np.c_[xx.ravel(), yy.ravel()])\n",
    "\n",
    "    z = z.reshape(xx.shape)\n",
    "        \n",
    "    plt.pcolormesh(xx, yy, z)\n",
    "    plt.scatter(data[:,0][target == 0], data[:,1][target == 0], marker='+')\n",
    "    plt.scatter(data[:,0][target == 1], data[:,1][target == 1], marker='+')\n",
    "    plt.scatter(data[:,0][target == 2], data[:,1][target == 2], marker='+')\n",
    "    plt.show()\n",
    "    \n",
    "graph(data[:, :2], target, lr)\n",
    "\n",
    "def get_accuracy(cl):\n",
    "    dtr, dts, ttr, tts = train_test_split(data, target)\n",
    "    cl.fit(dtr, ttr)\n",
    "    a = accuracy_score(tts, cl.predict(dts))\n",
    "    print(a)\n",
    "\n",
    "for i in range(0, 50): \n",
    "    a = get_accuracy(lr)\n",
    "    print(a)"
   ]
  },
  {
   "cell_type": "code",
   "execution_count": 27,
   "metadata": {},
   "outputs": [
    {
     "data": {
      "text/plain": [
       "{'C': 1.0,\n",
       " 'class_weight': None,\n",
       " 'dual': False,\n",
       " 'fit_intercept': True,\n",
       " 'intercept_scaling': 1,\n",
       " 'max_iter': 100,\n",
       " 'multi_class': 'ovr',\n",
       " 'n_jobs': 1,\n",
       " 'penalty': 'l2',\n",
       " 'random_state': None,\n",
       " 'solver': 'liblinear',\n",
       " 'tol': 0.0001,\n",
       " 'verbose': 0,\n",
       " 'warm_start': False}"
      ]
     },
     "execution_count": 27,
     "metadata": {},
     "output_type": "execute_result"
    }
   ],
   "source": [
    "lr.get_params()"
   ]
  },
  {
   "cell_type": "code",
   "execution_count": 32,
   "metadata": {},
   "outputs": [
    {
     "data": {
      "image/png": "[encoded data removed]",
      "text/plain": [
       "<Figure size 432x288 with 1 Axes>"
      ]
     },
     "metadata": {},
     "output_type": "display_data"
    },
    {
     "data": {
      "image/png": "[encoded data removed]",
      "text/plain": [
       "<Figure size 432x288 with 1 Axes>"
      ]
     },
     "metadata": {},
     "output_type": "display_data"
    },
    {
     "name": "stdout",
     "output_type": "stream",
     "text": [
      "0.9736842105263158\n",
      "0.9473684210526315\n"
     ]
    }
   ],
   "source": [
    "from sklearn.multiclass import OneVsOneClassifier, OneVsRestClassifier\n",
    "\n",
    "ovo = OneVsOneClassifier(LogisticRegression())\n",
    "ovr = OneVsRestClassifier(LogisticRegression())\n",
    "\n",
    "graph(data[:, :2], target, ovo)\n",
    "\n",
    "graph(data[:, :2], target, ovr)\n",
    "get_accuracy(ovo)\n",
    "get_accuracy(ovr)"
   ]
  },
  {
   "cell_type": "code",
   "execution_count": null,
   "metadata": {},
   "outputs": [],
   "source": []
  },
  {
   "cell_type": "code",
   "execution_count": null,
   "metadata": {},
   "outputs": [],
   "source": []
  }
 ],
 "metadata": {
  "kernelspec": {
   "display_name": "Python 3",
   "language": "python",
   "name": "python3"
  },
  "language_info": {
   "codemirror_mode": {
    "name": "ipython",
    "version": 3
   },
   "file_extension": ".py",
   "mimetype": "text/x-python",
   "name": "python",
   "nbconvert_exporter": "python",
   "pygments_lexer": "ipython3",
   "version": "3.6.3"
  }
 },
 "nbformat": 4,
 "nbformat_minor": 2
}
