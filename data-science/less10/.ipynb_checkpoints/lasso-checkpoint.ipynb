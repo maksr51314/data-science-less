{
 "cells": [
  {
   "cell_type": "code",
   "execution_count": 11,
   "metadata": {},
   "outputs": [
    {
     "data": {
      "text/plain": [
       "array([[-0.        , -0.        , -0.        , ..., -0.09162844,\n",
       "        -0.09162847, -0.09162849],\n",
       "       [ 0.02314768,  0.02451811,  0.02587159, ...,  0.04867633,\n",
       "         0.04867631,  0.04867629],\n",
       "       [-0.        , -0.        , -0.        , ..., -0.0038035 ,\n",
       "        -0.00380311, -0.00380273],\n",
       "       ...,\n",
       "       [ 0.        ,  0.        ,  0.        , ..., -0.96795085,\n",
       "        -0.96795156, -0.96795226],\n",
       "       [-0.        , -0.        , -0.        , ...,  0.17044628,\n",
       "         0.17044623,  0.17044619],\n",
       "       [ 0.        ,  0.        ,  0.        , ..., -0.00939029,\n",
       "        -0.00939028, -0.00939026]])"
      ]
     },
     "execution_count": 11,
     "metadata": {},
     "output_type": "execute_result"
    }
   ],
   "source": [
    "import numpy as np\n",
    "import matplotlib.pyplot as plt\n",
    "from sklearn.datasets import load_boston\n",
    "from sklearn.linear_model import LinearRegression, Ridge, Lasso, ElasticNet\n",
    "\n",
    "boston = load_boston()\n",
    "\n",
    "data = boston.data\n",
    "target = boston.target\n",
    "\n",
    "la = Lasso()\n",
    "ri = Ridge()\n",
    "\n",
    "# la.path()\n",
    "alphas = np.logspace(-5, 2, 1000)\n",
    "\n",
    "alphas, coefs, _ = la.path(data, target, alphas=alphas)\n",
    "\n",
    "coefs[:10]"
   ]
  },
  {
   "cell_type": "code",
   "execution_count": null,
   "metadata": {},
   "outputs": [],
   "source": []
  }
 ],
 "metadata": {
  "kernelspec": {
   "display_name": "Python 3",
   "language": "python",
   "name": "python3"
  },
  "language_info": {
   "codemirror_mode": {
    "name": "ipython",
    "version": 3
   },
   "file_extension": ".py",
   "mimetype": "text/x-python",
   "name": "python",
   "nbconvert_exporter": "python",
   "pygments_lexer": "ipython3",
   "version": "3.6.3"
  }
 },
 "nbformat": 4,
 "nbformat_minor": 2
}
