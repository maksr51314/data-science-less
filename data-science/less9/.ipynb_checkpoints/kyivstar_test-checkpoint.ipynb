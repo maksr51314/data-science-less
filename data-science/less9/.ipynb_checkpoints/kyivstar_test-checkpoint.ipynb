{
 "cells": [
  {
   "cell_type": "code",
   "execution_count": 95,
   "metadata": {},
   "outputs": [
    {
     "data": {
      "text/plain": [
       "0.4030808729139923"
      ]
     },
     "execution_count": 95,
     "metadata": {},
     "output_type": "execute_result"
    }
   ],
   "source": [
    "import pandas as pd\n",
    "import matplotlib.pyplot as plt\n",
    "import numpy as np\n",
    "import seaborn as sns\n",
    "from sklearn.preprocessing import LabelEncoder\n",
    "from sklearn.preprocessing import StandardScaler\n",
    "from sklearn.preprocessing import MinMaxScaler\n",
    "from sklearn.ensemble import RandomForestClassifier\n",
    "from sklearn.model_selection import train_test_split\n",
    "from sklearn.metrics import accuracy_score\n",
    "\n",
    "# load data\n",
    "base1 = pd.read_csv('data/Base1.txt', sep='\\t', header=0)\n",
    "base2 = pd.read_csv('data/Base2.txt', sep='\\t', header=0)\n",
    "target = pd.read_csv('data/train.txt', sep='\\t', header=0)\n",
    "test = pd.read_csv('data/test.txt', sep='\\t', header=0)\n",
    "p_test = pd.read_csv('data/PetrenkoPetro_test.txt', sep='\\t', header=0)\n",
    "\n",
    "for column in base2.drop(['ID'], axis=1).columns:\n",
    "    base2[column] = LabelEncoder().fit_transform(base2[column])\n",
    "\n",
    "for i in range(1, 43):\n",
    "    base1['V' + str(i)] = base1['V' + str(i)].fillna(0)# np.nanmedian(base1['V' + str(i)])\n",
    "\n",
    "base1 = base1.groupby(['ID']).median()\n",
    "    \n",
    "# base1 = base1.drop(['MONTH'], axis=1)\n",
    "r = target.merge(base1, left_on='ID', right_on='ID')\n",
    "r = r.merge(base2, left_on='ID', right_on='ID')\n",
    "\n",
    "target = r.TARGET\n",
    "data = r.drop(['ID', 'TARGET', 'V2', 'V9', 'V11', 'V18'], axis=1)\n",
    "\n",
    "rf = RandomForestClassifier()\n",
    "\n",
    "dtr, dts, ttr, tts = train_test_split(data, target)\n",
    "rf.fit(dtr, ttr)\n",
    "accuracy_score(tts, rf.predict(dts))"
   ]
  },
  {
   "cell_type": "code",
   "execution_count": 90,
   "metadata": {},
   "outputs": [],
   "source": [
    "# sns.pairplot(data=data, hue='TARGET', vars=r.columns[12:20])\n"
   ]
  },
  {
   "cell_type": "code",
   "execution_count": null,
   "metadata": {},
   "outputs": [],
   "source": []
  }
 ],
 "metadata": {
  "kernelspec": {
   "display_name": "Python 3",
   "language": "python",
   "name": "python3"
  },
  "language_info": {
   "codemirror_mode": {
    "name": "ipython",
    "version": 3
   },
   "file_extension": ".py",
   "mimetype": "text/x-python",
   "name": "python",
   "nbconvert_exporter": "python",
   "pygments_lexer": "ipython3",
   "version": "3.6.3"
  }
 },
 "nbformat": 4,
 "nbformat_minor": 2
}
