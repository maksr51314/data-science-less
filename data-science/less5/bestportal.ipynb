{
 "cells": [
  {
   "cell_type": "code",
   "execution_count": 10,
   "metadata": {},
   "outputs": [
    {
     "data": {
      "text/html": [
       "<div>\n",
       "<style>\n",
       "    .dataframe thead tr:only-child th {\n",
       "        text-align: right;\n",
       "    }\n",
       "\n",
       "    .dataframe thead th {\n",
       "        text-align: left;\n",
       "    }\n",
       "\n",
       "    .dataframe tbody tr th {\n",
       "        vertical-align: top;\n",
       "    }\n",
       "</style>\n",
       "<table border=\"1\" class=\"dataframe\">\n",
       "  <thead>\n",
       "    <tr style=\"text-align: right;\">\n",
       "      <th></th>\n",
       "      <th>comment</th>\n",
       "      <th>sent</th>\n",
       "    </tr>\n",
       "  </thead>\n",
       "  <tbody>\n",
       "    <tr>\n",
       "      <th>0</th>\n",
       "      <td>&lt;span class=\"comment\"&gt; Смешно, есть асинхронны...</td>\n",
       "      <td>&lt;img src=\"/i/lpp-nul.png\"&gt;</td>\n",
       "    </tr>\n",
       "    <tr>\n",
       "      <th>1</th>\n",
       "      <td>&lt;span class=\"comment\"&gt; Классный магазинчик на ...</td>\n",
       "      <td>&lt;img src=\"/i/lpp-plus.png\"&gt;</td>\n",
       "    </tr>\n",
       "    <tr>\n",
       "      <th>2</th>\n",
       "      <td>&lt;span class=\"comment\"&gt; Звичайно дитячий трансп...</td>\n",
       "      <td>&lt;img src=\"/i/lpp-plus.png\"&gt;</td>\n",
       "    </tr>\n",
       "    <tr>\n",
       "      <th>3</th>\n",
       "      <td>&lt;span class=\"comment\"&gt; Замовив через телефон, ...</td>\n",
       "      <td>&lt;img src=\"/i/lpp-plus.png\"&gt;</td>\n",
       "    </tr>\n",
       "    <tr>\n",
       "      <th>4</th>\n",
       "      <td>&lt;span class=\"comment\"&gt; Странно такое читать, п...</td>\n",
       "      <td>&lt;img src=\"/i/lpp-nul.png\"&gt;</td>\n",
       "    </tr>\n",
       "  </tbody>\n",
       "</table>\n",
       "</div>"
      ],
      "text/plain": [
       "                                             comment  \\\n",
       "0  <span class=\"comment\"> Смешно, есть асинхронны...   \n",
       "1  <span class=\"comment\"> Классный магазинчик на ...   \n",
       "2  <span class=\"comment\"> Звичайно дитячий трансп...   \n",
       "3  <span class=\"comment\"> Замовив через телефон, ...   \n",
       "4  <span class=\"comment\"> Странно такое читать, п...   \n",
       "\n",
       "                          sent  \n",
       "0   <img src=\"/i/lpp-nul.png\">  \n",
       "1  <img src=\"/i/lpp-plus.png\">  \n",
       "2  <img src=\"/i/lpp-plus.png\">  \n",
       "3  <img src=\"/i/lpp-plus.png\">  \n",
       "4   <img src=\"/i/lpp-nul.png\">  "
      ]
     },
     "execution_count": 10,
     "metadata": {},
     "output_type": "execute_result"
    }
   ],
   "source": [
    "import pandas as pd\n",
    "\n",
    "df = pd.read_csv('./datasets/bestportal.csv')\n",
    "\n",
    "df.head()"
   ]
  },
  {
   "cell_type": "code",
   "execution_count": 8,
   "metadata": {},
   "outputs": [
    {
     "data": {
      "text/plain": [
       "' Смешно, есть асинхронный двигатель, давно уже есть генераторы, принцип действия на обычной машине какой?  а еще все вкурсе что генератор может выдавать столько что горит проводка, о чем речь, аккумулятор для страта и всё, просто они незнают как сдлеать так что бы мы платили за расходник как тема с бензином, вот и всё )))) '"
      ]
     },
     "execution_count": 8,
     "metadata": {},
     "output_type": "execute_result"
    }
   ],
   "source": [
    "df['sent'].unique()\n",
    "df[df['sent'] != '<img src=\"/i/lpp-nul.png\">']\n",
    "\n",
    "from langdetect import detect\n",
    "from bs4 import BeautifulSoup\n",
    "\n",
    "soup = BeautifulSoup(df.iloc[0, 0], 'html.parser')\n",
    "soup.text\n",
    "\n",
    "# detect(df.iloc[0, 0])\n"
   ]
  },
  {
   "cell_type": "code",
   "execution_count": 11,
   "metadata": {},
   "outputs": [
    {
     "data": {
      "text/html": [
       "<div>\n",
       "<style>\n",
       "    .dataframe thead tr:only-child th {\n",
       "        text-align: right;\n",
       "    }\n",
       "\n",
       "    .dataframe thead th {\n",
       "        text-align: left;\n",
       "    }\n",
       "\n",
       "    .dataframe tbody tr th {\n",
       "        vertical-align: top;\n",
       "    }\n",
       "</style>\n",
       "<table border=\"1\" class=\"dataframe\">\n",
       "  <thead>\n",
       "    <tr style=\"text-align: right;\">\n",
       "      <th></th>\n",
       "      <th>comment</th>\n",
       "      <th>sent</th>\n",
       "    </tr>\n",
       "  </thead>\n",
       "  <tbody>\n",
       "    <tr>\n",
       "      <th>0</th>\n",
       "      <td>Смешно, есть асинхронный двигатель, давно уже...</td>\n",
       "      <td>&lt;img src=\"/i/lpp-nul.png\"&gt;</td>\n",
       "    </tr>\n",
       "    <tr>\n",
       "      <th>1</th>\n",
       "      <td>Классный магазинчик на Оболони, столько разны...</td>\n",
       "      <td>&lt;img src=\"/i/lpp-plus.png\"&gt;</td>\n",
       "    </tr>\n",
       "    <tr>\n",
       "      <th>2</th>\n",
       "      <td>Звичайно дитячий транспорт в наш час не дуже ...</td>\n",
       "      <td>&lt;img src=\"/i/lpp-plus.png\"&gt;</td>\n",
       "    </tr>\n",
       "    <tr>\n",
       "      <th>3</th>\n",
       "      <td>Замовив через телефон, доставили до Львова. В...</td>\n",
       "      <td>&lt;img src=\"/i/lpp-plus.png\"&gt;</td>\n",
       "    </tr>\n",
       "    <tr>\n",
       "      <th>4</th>\n",
       "      <td>Странно такое читать, потому что мы с мужем у...</td>\n",
       "      <td>&lt;img src=\"/i/lpp-nul.png\"&gt;</td>\n",
       "    </tr>\n",
       "  </tbody>\n",
       "</table>\n",
       "</div>"
      ],
      "text/plain": [
       "                                             comment  \\\n",
       "0   Смешно, есть асинхронный двигатель, давно уже...   \n",
       "1   Классный магазинчик на Оболони, столько разны...   \n",
       "2   Звичайно дитячий транспорт в наш час не дуже ...   \n",
       "3   Замовив через телефон, доставили до Львова. В...   \n",
       "4   Странно такое читать, потому что мы с мужем у...   \n",
       "\n",
       "                          sent  \n",
       "0   <img src=\"/i/lpp-nul.png\">  \n",
       "1  <img src=\"/i/lpp-plus.png\">  \n",
       "2  <img src=\"/i/lpp-plus.png\">  \n",
       "3  <img src=\"/i/lpp-plus.png\">  \n",
       "4   <img src=\"/i/lpp-nul.png\">  "
      ]
     },
     "execution_count": 11,
     "metadata": {},
     "output_type": "execute_result"
    }
   ],
   "source": [
    "   \n",
    "df['comment'] = df['comment'].apply(lambda x: BeautifulSoup(x, 'html.parser').text)\n",
    "df.head()"
   ]
  },
  {
   "cell_type": "code",
   "execution_count": 16,
   "metadata": {},
   "outputs": [
    {
     "data": {
      "text/html": [
       "<div>\n",
       "<style>\n",
       "    .dataframe thead tr:only-child th {\n",
       "        text-align: right;\n",
       "    }\n",
       "\n",
       "    .dataframe thead th {\n",
       "        text-align: left;\n",
       "    }\n",
       "\n",
       "    .dataframe tbody tr th {\n",
       "        vertical-align: top;\n",
       "    }\n",
       "</style>\n",
       "<table border=\"1\" class=\"dataframe\">\n",
       "  <thead>\n",
       "    <tr style=\"text-align: right;\">\n",
       "      <th></th>\n",
       "      <th>comment</th>\n",
       "      <th>sent</th>\n",
       "      <th>lang</th>\n",
       "    </tr>\n",
       "  </thead>\n",
       "  <tbody>\n",
       "    <tr>\n",
       "      <th>0</th>\n",
       "      <td>Смешно, есть асинхронный двигатель, давно уже ...</td>\n",
       "      <td>&lt;img src=\"/i/lpp-nul.png\"&gt;</td>\n",
       "      <td>ru</td>\n",
       "    </tr>\n",
       "    <tr>\n",
       "      <th>1</th>\n",
       "      <td>Классный магазинчик на Оболони, столько разных...</td>\n",
       "      <td>&lt;img src=\"/i/lpp-plus.png\"&gt;</td>\n",
       "      <td>ru</td>\n",
       "    </tr>\n",
       "    <tr>\n",
       "      <th>2</th>\n",
       "      <td>Звичайно дитячий транспорт в наш час не дуже д...</td>\n",
       "      <td>&lt;img src=\"/i/lpp-plus.png\"&gt;</td>\n",
       "      <td>uk</td>\n",
       "    </tr>\n",
       "    <tr>\n",
       "      <th>3</th>\n",
       "      <td>Замовив через телефон, доставили до Львова. Вс...</td>\n",
       "      <td>&lt;img src=\"/i/lpp-plus.png\"&gt;</td>\n",
       "      <td>uk</td>\n",
       "    </tr>\n",
       "    <tr>\n",
       "      <th>4</th>\n",
       "      <td>Странно такое читать, потому что мы с мужем уж...</td>\n",
       "      <td>&lt;img src=\"/i/lpp-nul.png\"&gt;</td>\n",
       "      <td>ru</td>\n",
       "    </tr>\n",
       "  </tbody>\n",
       "</table>\n",
       "</div>"
      ],
      "text/plain": [
       "                                             comment  \\\n",
       "0  Смешно, есть асинхронный двигатель, давно уже ...   \n",
       "1  Классный магазинчик на Оболони, столько разных...   \n",
       "2  Звичайно дитячий транспорт в наш час не дуже д...   \n",
       "3  Замовив через телефон, доставили до Львова. Вс...   \n",
       "4  Странно такое читать, потому что мы с мужем уж...   \n",
       "\n",
       "                          sent lang  \n",
       "0   <img src=\"/i/lpp-nul.png\">   ru  \n",
       "1  <img src=\"/i/lpp-plus.png\">   ru  \n",
       "2  <img src=\"/i/lpp-plus.png\">   uk  \n",
       "3  <img src=\"/i/lpp-plus.png\">   uk  \n",
       "4   <img src=\"/i/lpp-nul.png\">   ru  "
      ]
     },
     "execution_count": 16,
     "metadata": {},
     "output_type": "execute_result"
    }
   ],
   "source": [
    "df['comment'] = df['comment'].apply(lambda x: ' '.join(x.split()))\n",
    "\n",
    "def lang_detect(x):\n",
    "    try:\n",
    "        return detect(x)\n",
    "    except:\n",
    "        return 'undef'\n",
    "\n",
    "df['lang'] = df['comment'].apply(lambda x: lang_detect(x))\n",
    "df.head()"
   ]
  },
  {
   "cell_type": "code",
   "execution_count": 17,
   "metadata": {},
   "outputs": [
    {
     "data": {
      "text/html": [
       "<div>\n",
       "<style>\n",
       "    .dataframe thead tr:only-child th {\n",
       "        text-align: right;\n",
       "    }\n",
       "\n",
       "    .dataframe thead th {\n",
       "        text-align: left;\n",
       "    }\n",
       "\n",
       "    .dataframe tbody tr th {\n",
       "        vertical-align: top;\n",
       "    }\n",
       "</style>\n",
       "<table border=\"1\" class=\"dataframe\">\n",
       "  <thead>\n",
       "    <tr style=\"text-align: right;\">\n",
       "      <th></th>\n",
       "      <th>comment</th>\n",
       "      <th>sent</th>\n",
       "      <th>lang</th>\n",
       "    </tr>\n",
       "  </thead>\n",
       "  <tbody>\n",
       "    <tr>\n",
       "      <th>2541</th>\n",
       "      <td>:-)</td>\n",
       "      <td>&lt;img src=\"/i/lpp-plus.png\"&gt;</td>\n",
       "      <td>undef</td>\n",
       "    </tr>\n",
       "    <tr>\n",
       "      <th>4337</th>\n",
       "      <td>+1000000</td>\n",
       "      <td>&lt;img src=\"/i/lpp-nul.png\"&gt;</td>\n",
       "      <td>undef</td>\n",
       "    </tr>\n",
       "    <tr>\n",
       "      <th>4713</th>\n",
       "      <td>+1000000</td>\n",
       "      <td>&lt;img src=\"/i/lpp-nul.png\"&gt;</td>\n",
       "      <td>undef</td>\n",
       "    </tr>\n",
       "    <tr>\n",
       "      <th>6303</th>\n",
       "      <td>ntmk2000@ukr.net</td>\n",
       "      <td>&lt;img src=\"/i/lpp-minus.png\"&gt;</td>\n",
       "      <td>undef</td>\n",
       "    </tr>\n",
       "    <tr>\n",
       "      <th>9213</th>\n",
       "      <td>0000</td>\n",
       "      <td>&lt;img src=\"/i/lpp-nul.png\"&gt;</td>\n",
       "      <td>undef</td>\n",
       "    </tr>\n",
       "    <tr>\n",
       "      <th>10091</th>\n",
       "      <td>+1 :)</td>\n",
       "      <td>&lt;img src=\"/i/lpp-nul.png\"&gt;</td>\n",
       "      <td>undef</td>\n",
       "    </tr>\n",
       "    <tr>\n",
       "      <th>11304</th>\n",
       "      <td>100%</td>\n",
       "      <td>&lt;img src=\"/i/lpp-nul.png\"&gt;</td>\n",
       "      <td>undef</td>\n",
       "    </tr>\n",
       "  </tbody>\n",
       "</table>\n",
       "</div>"
      ],
      "text/plain": [
       "                comment                          sent   lang\n",
       "2541                :-)   <img src=\"/i/lpp-plus.png\">  undef\n",
       "4337           +1000000    <img src=\"/i/lpp-nul.png\">  undef\n",
       "4713           +1000000    <img src=\"/i/lpp-nul.png\">  undef\n",
       "6303   ntmk2000@ukr.net  <img src=\"/i/lpp-minus.png\">  undef\n",
       "9213               0000    <img src=\"/i/lpp-nul.png\">  undef\n",
       "10091             +1 :)    <img src=\"/i/lpp-nul.png\">  undef\n",
       "11304              100%    <img src=\"/i/lpp-nul.png\">  undef"
      ]
     },
     "execution_count": 17,
     "metadata": {},
     "output_type": "execute_result"
    }
   ],
   "source": [
    "df[df['lang'] == 'undef']"
   ]
  },
  {
   "cell_type": "code",
   "execution_count": 22,
   "metadata": {},
   "outputs": [
    {
     "data": {
      "text/html": [
       "<div>\n",
       "<style>\n",
       "    .dataframe thead tr:only-child th {\n",
       "        text-align: right;\n",
       "    }\n",
       "\n",
       "    .dataframe thead th {\n",
       "        text-align: left;\n",
       "    }\n",
       "\n",
       "    .dataframe tbody tr th {\n",
       "        vertical-align: top;\n",
       "    }\n",
       "</style>\n",
       "<table border=\"1\" class=\"dataframe\">\n",
       "  <thead>\n",
       "    <tr style=\"text-align: right;\">\n",
       "      <th></th>\n",
       "      <th>comment</th>\n",
       "      <th>sent</th>\n",
       "      <th>lang</th>\n",
       "    </tr>\n",
       "  </thead>\n",
       "  <tbody>\n",
       "    <tr>\n",
       "      <th>1</th>\n",
       "      <td>Классный магазинчик на Оболони, столько разных...</td>\n",
       "      <td>&lt;img src=\"/i/lpp-plus.png\"&gt;</td>\n",
       "      <td>ru</td>\n",
       "    </tr>\n",
       "    <tr>\n",
       "      <th>5</th>\n",
       "      <td>в марте мы с мужем не могли выбрать модель, пр...</td>\n",
       "      <td>&lt;img src=\"/i/lpp-plus.png\"&gt;</td>\n",
       "      <td>ru</td>\n",
       "    </tr>\n",
       "    <tr>\n",
       "      <th>6</th>\n",
       "      <td>08-02-2012 10:23Сделал заказ в данном магазине...</td>\n",
       "      <td>&lt;img src=\"/i/lpp-minus.png\"&gt;</td>\n",
       "      <td>ru</td>\n",
       "    </tr>\n",
       "    <tr>\n",
       "      <th>7</th>\n",
       "      <td>\"Двери Белоруссии\" реально продвинутая клиент ...</td>\n",
       "      <td>&lt;img src=\"/i/lpp-plus.png\"&gt;</td>\n",
       "      <td>ru</td>\n",
       "    </tr>\n",
       "    <tr>\n",
       "      <th>8</th>\n",
       "      <td>Да, некоторые ошибочно думают, что «ЧЕРНЫЙ ПИА...</td>\n",
       "      <td>&lt;img src=\"/i/lpp-plus.png\"&gt;</td>\n",
       "      <td>ru</td>\n",
       "    </tr>\n",
       "  </tbody>\n",
       "</table>\n",
       "</div>"
      ],
      "text/plain": [
       "                                             comment  \\\n",
       "1  Классный магазинчик на Оболони, столько разных...   \n",
       "5  в марте мы с мужем не могли выбрать модель, пр...   \n",
       "6  08-02-2012 10:23Сделал заказ в данном магазине...   \n",
       "7  \"Двери Белоруссии\" реально продвинутая клиент ...   \n",
       "8  Да, некоторые ошибочно думают, что «ЧЕРНЫЙ ПИА...   \n",
       "\n",
       "                           sent lang  \n",
       "1   <img src=\"/i/lpp-plus.png\">   ru  \n",
       "5   <img src=\"/i/lpp-plus.png\">   ru  \n",
       "6  <img src=\"/i/lpp-minus.png\">   ru  \n",
       "7   <img src=\"/i/lpp-plus.png\">   ru  \n",
       "8   <img src=\"/i/lpp-plus.png\">   ru  "
      ]
     },
     "execution_count": 22,
     "metadata": {},
     "output_type": "execute_result"
    }
   ],
   "source": [
    "df = df[df['sent'] != '<img src=\"/i/lpp-nul.png\">']\n",
    "df = df[df['lang'] != 'uk']\n",
    "\n",
    "df[df['lang'] == 'undef']\n",
    "\n",
    "df.groupby('lang').count()\n",
    "\n",
    "df = df[df['lang'] == 'ru']\n",
    "df.head()\n"
   ]
  },
  {
   "cell_type": "code",
   "execution_count": 23,
   "metadata": {},
   "outputs": [
    {
     "data": {
      "text/html": [
       "<div>\n",
       "<style>\n",
       "    .dataframe thead tr:only-child th {\n",
       "        text-align: right;\n",
       "    }\n",
       "\n",
       "    .dataframe thead th {\n",
       "        text-align: left;\n",
       "    }\n",
       "\n",
       "    .dataframe tbody tr th {\n",
       "        vertical-align: top;\n",
       "    }\n",
       "</style>\n",
       "<table border=\"1\" class=\"dataframe\">\n",
       "  <thead>\n",
       "    <tr style=\"text-align: right;\">\n",
       "      <th></th>\n",
       "      <th>comment</th>\n",
       "      <th>sent</th>\n",
       "      <th>lang</th>\n",
       "    </tr>\n",
       "  </thead>\n",
       "  <tbody>\n",
       "    <tr>\n",
       "      <th>1</th>\n",
       "      <td>классный магазинчик на оболони  столько разных...</td>\n",
       "      <td>&lt;img src=\"/i/lpp-plus.png\"&gt;</td>\n",
       "      <td>ru</td>\n",
       "    </tr>\n",
       "    <tr>\n",
       "      <th>5</th>\n",
       "      <td>в марте мы с мужем не могли выбрать модель  пр...</td>\n",
       "      <td>&lt;img src=\"/i/lpp-plus.png\"&gt;</td>\n",
       "      <td>ru</td>\n",
       "    </tr>\n",
       "    <tr>\n",
       "      <th>6</th>\n",
       "      <td>сделал заказ в данном магазине...</td>\n",
       "      <td>&lt;img src=\"/i/lpp-minus.png\"&gt;</td>\n",
       "      <td>ru</td>\n",
       "    </tr>\n",
       "    <tr>\n",
       "      <th>7</th>\n",
       "      <td>двери белоруссии  реально продвинутая клиент ...</td>\n",
       "      <td>&lt;img src=\"/i/lpp-plus.png\"&gt;</td>\n",
       "      <td>ru</td>\n",
       "    </tr>\n",
       "    <tr>\n",
       "      <th>8</th>\n",
       "      <td>да  некоторые ошибочно думают  что «черный пиа...</td>\n",
       "      <td>&lt;img src=\"/i/lpp-plus.png\"&gt;</td>\n",
       "      <td>ru</td>\n",
       "    </tr>\n",
       "  </tbody>\n",
       "</table>\n",
       "</div>"
      ],
      "text/plain": [
       "                                             comment  \\\n",
       "1  классный магазинчик на оболони  столько разных...   \n",
       "5  в марте мы с мужем не могли выбрать модель  пр...   \n",
       "6                  сделал заказ в данном магазине...   \n",
       "7   двери белоруссии  реально продвинутая клиент ...   \n",
       "8  да  некоторые ошибочно думают  что «черный пиа...   \n",
       "\n",
       "                           sent lang  \n",
       "1   <img src=\"/i/lpp-plus.png\">   ru  \n",
       "5   <img src=\"/i/lpp-plus.png\">   ru  \n",
       "6  <img src=\"/i/lpp-minus.png\">   ru  \n",
       "7   <img src=\"/i/lpp-plus.png\">   ru  \n",
       "8   <img src=\"/i/lpp-plus.png\">   ru  "
      ]
     },
     "execution_count": 23,
     "metadata": {},
     "output_type": "execute_result"
    }
   ],
   "source": [
    "import string\n",
    "\n",
    "t = {ord(char): ' ' for char in string.punctuation + string.digits}\n",
    "df['comment'] = df['comment'].apply(lambda x: x.lower().translate(t))\n",
    "df.head()"
   ]
  },
  {
   "cell_type": "code",
   "execution_count": 25,
   "metadata": {},
   "outputs": [
    {
     "data": {
      "text/html": [
       "<div>\n",
       "<style>\n",
       "    .dataframe thead tr:only-child th {\n",
       "        text-align: right;\n",
       "    }\n",
       "\n",
       "    .dataframe thead th {\n",
       "        text-align: left;\n",
       "    }\n",
       "\n",
       "    .dataframe tbody tr th {\n",
       "        vertical-align: top;\n",
       "    }\n",
       "</style>\n",
       "<table border=\"1\" class=\"dataframe\">\n",
       "  <thead>\n",
       "    <tr style=\"text-align: right;\">\n",
       "      <th></th>\n",
       "      <th>comment</th>\n",
       "      <th>sent</th>\n",
       "      <th>lang</th>\n",
       "      <th>target</th>\n",
       "    </tr>\n",
       "  </thead>\n",
       "  <tbody>\n",
       "    <tr>\n",
       "      <th>1</th>\n",
       "      <td>классный магазинчик на оболони  столько разных...</td>\n",
       "      <td>&lt;img src=\"/i/lpp-plus.png\"&gt;</td>\n",
       "      <td>ru</td>\n",
       "      <td>1</td>\n",
       "    </tr>\n",
       "    <tr>\n",
       "      <th>5</th>\n",
       "      <td>в марте мы с мужем не могли выбрать модель  пр...</td>\n",
       "      <td>&lt;img src=\"/i/lpp-plus.png\"&gt;</td>\n",
       "      <td>ru</td>\n",
       "      <td>1</td>\n",
       "    </tr>\n",
       "    <tr>\n",
       "      <th>6</th>\n",
       "      <td>сделал заказ в данном магазине...</td>\n",
       "      <td>&lt;img src=\"/i/lpp-minus.png\"&gt;</td>\n",
       "      <td>ru</td>\n",
       "      <td>0</td>\n",
       "    </tr>\n",
       "    <tr>\n",
       "      <th>7</th>\n",
       "      <td>двери белоруссии  реально продвинутая клиент ...</td>\n",
       "      <td>&lt;img src=\"/i/lpp-plus.png\"&gt;</td>\n",
       "      <td>ru</td>\n",
       "      <td>1</td>\n",
       "    </tr>\n",
       "    <tr>\n",
       "      <th>8</th>\n",
       "      <td>да  некоторые ошибочно думают  что «черный пиа...</td>\n",
       "      <td>&lt;img src=\"/i/lpp-plus.png\"&gt;</td>\n",
       "      <td>ru</td>\n",
       "      <td>1</td>\n",
       "    </tr>\n",
       "  </tbody>\n",
       "</table>\n",
       "</div>"
      ],
      "text/plain": [
       "                                             comment  \\\n",
       "1  классный магазинчик на оболони  столько разных...   \n",
       "5  в марте мы с мужем не могли выбрать модель  пр...   \n",
       "6                  сделал заказ в данном магазине...   \n",
       "7   двери белоруссии  реально продвинутая клиент ...   \n",
       "8  да  некоторые ошибочно думают  что «черный пиа...   \n",
       "\n",
       "                           sent lang  target  \n",
       "1   <img src=\"/i/lpp-plus.png\">   ru       1  \n",
       "5   <img src=\"/i/lpp-plus.png\">   ru       1  \n",
       "6  <img src=\"/i/lpp-minus.png\">   ru       0  \n",
       "7   <img src=\"/i/lpp-plus.png\">   ru       1  \n",
       "8   <img src=\"/i/lpp-plus.png\">   ru       1  "
      ]
     },
     "execution_count": 25,
     "metadata": {},
     "output_type": "execute_result"
    }
   ],
   "source": [
    "df['target'] = df['sent'].apply(lambda x: 0 if x == '<img src=\"/i/lpp-minus.png\">' else 1)\n",
    "df.head()\n",
    "\n"
   ]
  },
  {
   "cell_type": "code",
   "execution_count": 26,
   "metadata": {},
   "outputs": [
    {
     "data": {
      "text/plain": [
       "<8621x53229 sparse matrix of type '<class 'numpy.int64'>'\n",
       "\twith 442827 stored elements in Compressed Sparse Row format>"
      ]
     },
     "execution_count": 26,
     "metadata": {},
     "output_type": "execute_result"
    }
   ],
   "source": [
    "from sklearn.feature_extraction.text import CountVectorizer\n",
    "\n",
    "cv = CountVectorizer()\n",
    "\n",
    "data = cv.fit_transform(df['comment'])\n",
    "data"
   ]
  },
  {
   "cell_type": "code",
   "execution_count": 28,
   "metadata": {},
   "outputs": [
    {
     "data": {
      "text/plain": [
       "GaussianNB(priors=None)"
      ]
     },
     "execution_count": 28,
     "metadata": {},
     "output_type": "execute_result"
    }
   ],
   "source": [
    "target = df['target']\n",
    "from sklearn.model_selection import train_test_split\n",
    "from sklearn.naive_bayes import  GaussianNB\n",
    "gn = GaussianNB()\n",
    "\n",
    "dtr, dts, ttr, tts = train_test_split(data, target)\n",
    "\n",
    "gn.fit(dtr.toarray(), ttr)\n",
    "\n"
   ]
  },
  {
   "cell_type": "code",
   "execution_count": 30,
   "metadata": {},
   "outputs": [
    {
     "data": {
      "text/plain": [
       "0.79128014842300554"
      ]
     },
     "execution_count": 30,
     "metadata": {},
     "output_type": "execute_result"
    }
   ],
   "source": [
    "from sklearn.metrics import accuracy_score\n",
    "accuracy_score(tts, gn.predict(dts.toarray()))"
   ]
  },
  {
   "cell_type": "code",
   "execution_count": null,
   "metadata": {
    "collapsed": true
   },
   "outputs": [],
   "source": []
  }
 ],
 "metadata": {
  "kernelspec": {
   "display_name": "Python 3",
   "language": "python",
   "name": "python3"
  },
  "language_info": {
   "codemirror_mode": {
    "name": "ipython",
    "version": 3
   },
   "file_extension": ".py",
   "mimetype": "text/x-python",
   "name": "python",
   "nbconvert_exporter": "python",
   "pygments_lexer": "ipython3",
   "version": "3.6.2"
  }
 },
 "nbformat": 4,
 "nbformat_minor": 2
}
